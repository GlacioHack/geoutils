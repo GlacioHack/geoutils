{
 "cells": [
  {
   "cell_type": "markdown",
   "id": "d1ed8b4e",
   "metadata": {},
   "source": [
    "(core-py-ops)=\n",
    "# Support of pythonic operators\n",
    "\n",
    "GeoUtils integrates most of Python's operators for shorter, more intuitive code to consistently perform arithmetic and logical operations.\n",
    " \n",
    "Pythonic operators work on {class}`~geoutils.Raster` much as they would on {class}`~numpy.ndarray`, with some more details.\n",
    "\n",
    "## Arithmetic of {class}`~geoutils.Raster` classes\n",
    "\n",
    "Arithmetic operators (+, -, /, //, *, **, %) can be used on a {class}`~geoutils.Raster` in combination with any other {class}`~geoutils.Raster`, {class}`~numpy.\n",
    "ndarray` or number.\n",
    "\n",
    "For an operation with another {class}`~geoutils.Raster`, the georeferencing ({attr}`~geoutils.Raster.crs` and {attr}`~geoutils.Raster.transform`) must match. \n",
    "For another {class}`~numpy.ndarray`, the {attr}`~geoutils.Raster.shape` must match. The operation always returns a {class}`~geoutils.Raster`."
   ]
  },
  {
   "cell_type": "code",
   "execution_count": 1,
   "id": "29de0559",
   "metadata": {},
   "outputs": [
    {
     "data": {
      "text/plain": [
       "Raster(\n",
       "  data=[[[102 -- --]\n",
       "         [-- 179 61]\n",
       "         [234 203 --]]]\n",
       "transform=| 0.33, 0.00, 0.00|\n",
       "          | 0.00,-0.33, 1.00|\n",
       "          | 0.00, 0.00, 1.00|\n",
       "crs=None\n",
       "nodata=None"
      ]
     },
     "execution_count": 1,
     "metadata": {},
     "output_type": "execute_result"
    }
   ],
   "source": [
    "import geoutils as gu\n",
    "import rasterio as rio\n",
    "import numpy as np\n",
    "\n",
    "# Create a random 3 x 3 masked array\n",
    "np.random.seed(42)\n",
    "arr = np.random.randint(0, 255, size=(3, 3), dtype=\"uint8\")\n",
    "mask = np.random.randint(0, 2, size=(3, 3), dtype=\"bool\")\n",
    "ma = np.ma.masked_array(data=arr, mask=mask)\n",
    "\n",
    "# Create an example Raster with only a transform\n",
    "raster = gu.Raster.from_array(\n",
    "        data = ma,\n",
    "        transform = rio.transform.from_bounds(0, 0, 1, 1, 3, 3),\n",
    "        crs=None\n",
    "    )\n",
    "\n",
    "raster"
   ]
  },
  {
   "cell_type": "code",
   "execution_count": 2,
   "id": "7f363e0c",
   "metadata": {},
   "outputs": [
    {
     "data": {
      "text/plain": [
       "Raster(\n",
       "  data=[[[103 -- --]\n",
       "         [-- 180 62]\n",
       "         [235 204 --]]]\n",
       "transform=| 0.33, 0.00, 0.00|\n",
       "          | 0.00,-0.33, 1.00|\n",
       "          | 0.00, 0.00, 1.00|\n",
       "crs=None\n",
       "nodata=None"
      ]
     },
     "execution_count": 2,
     "metadata": {},
     "output_type": "execute_result"
    }
   ],
   "source": [
    "# Arithmetic with a number\n",
    "raster + 1"
   ]
  },
  {
   "cell_type": "code",
   "execution_count": 3,
   "id": "f1afca04",
   "metadata": {},
   "outputs": [
    {
     "data": {
      "text/plain": [
       "Raster(\n",
       "  data=[[[1.0 -- --]\n",
       "         [-- 1.0 1.0]\n",
       "         [1.0 1.0 --]]]\n",
       "transform=| 0.33, 0.00, 0.00|\n",
       "          | 0.00,-0.33, 1.00|\n",
       "          | 0.00, 0.00, 1.00|\n",
       "crs=None\n",
       "nodata=None"
      ]
     },
     "execution_count": 3,
     "metadata": {},
     "output_type": "execute_result"
    }
   ],
   "source": [
    "# Arithmetic with an array\n",
    "raster / arr\n"
   ]
  },
  {
   "cell_type": "code",
   "execution_count": 4,
   "id": "31186cf5",
   "metadata": {},
   "outputs": [
    {
     "data": {
      "text/plain": [
       "Raster(\n",
       "  data=[[[91.90049506163793 -- --]\n",
       "         [-- 165.62091183974036 53.189750324093346]\n",
       "         [218.70294145922165 188.752193151225 --]]]\n",
       "transform=| 0.33, 0.00, 0.00|\n",
       "          | 0.00,-0.33, 1.00|\n",
       "          | 0.00, 0.00, 1.00|\n",
       "crs=None\n",
       "nodata=None"
      ]
     },
     "execution_count": 4,
     "metadata": {},
     "output_type": "execute_result"
    }
   ],
   "source": [
    "# Arithmetic with a raster\n",
    "raster - (raster**0.5)"
   ]
  },
  {
   "cell_type": "markdown",
   "id": "8a62d81a",
   "metadata": {},
   "source": [
    "If an unmasked {class}`~numpy.ndarray` is passed, it will internally be cast into a {class}`~numpy.ma.MaskedArray` to respect the propagation of \n",
    "{class}`~geoutils.Raster.nodata` values. Additionally, the {attr}`~geoutils.Raster.dtypes` are also reconciled as they would for {class}`~numpy.ndarray`, \n",
    "following [standard NumPy coercion rules](https://numpy.org/doc/stable/reference/generated/numpy.find_common_type.html).\n",
    "\n",
    "## Logical comparisons cast to {class}`~geoutils.Mask`\n",
    "\n",
    "Logical comparison operators (==, !=, >=, >, <=, <) can be used on a {class}`~geoutils.Raster`, also in combination with any other {class}`~geoutils.Raster`, \n",
    "{class}`~numpy.ndarray` or number.\n",
    "\n",
    "Those operation always return a {class}`~geoutils.Mask`, a subclass of {class}`~geoutils.Raster` with a boolean {class}`~numpy.ma.MaskedArray` \n",
    "as {class}`~geoutils.Raster.data`."
   ]
  },
  {
   "cell_type": "code",
   "execution_count": 5,
   "id": "4e8aa41a",
   "metadata": {},
   "outputs": [
    {
     "data": {
      "text/plain": [
       "Mask(\n",
       "  data=[[[True -- --]\n",
       "         [-- True False]\n",
       "         [True True --]]]\n",
       "transform=| 0.33, 0.00, 0.00|\n",
       "          | 0.00,-0.33, 1.00|\n",
       "          | 0.00, 0.00, 1.00|\n",
       "crs=None"
      ]
     },
     "execution_count": 5,
     "metadata": {},
     "output_type": "execute_result"
    }
   ],
   "source": [
    "# Logical comparison with a number\n",
    "mask = raster > 100\n",
    "mask"
   ]
  },
  {
   "cell_type": "markdown",
   "id": "2d8d4173",
   "metadata": {},
   "source": [
    "```{note}\n",
    "A {class}`~geoutils.Mask`'s {attr}`~geoutils.Raster.data` remains a {class}`~numpy.ma.MaskedArray`. Therefore, it still maps unvalid values through its \n",
    "{attr}`~numpy.ma.MaskedArray.mask`, but has no associated {attr}`~geoutils.Raster.nodata`.\n",
    "```\n",
    "\n",
    "## Logical bitwise operations on {class}`~geoutils.Mask`\n",
    "\n",
    "Logical bitwise operators (~, &, |, ^) can be used to combine a {class}`~geoutils.Mask` with another {class}`~geoutils.Mask`, and always output a {class}`~geoutils.Mask`."
   ]
  },
  {
   "cell_type": "code",
   "execution_count": 6,
   "id": "2217b60f",
   "metadata": {},
   "outputs": [
    {
     "data": {
      "text/plain": [
       "Mask(\n",
       "  data=[[[True -- --]\n",
       "         [-- False False]\n",
       "         [True False --]]]\n",
       "transform=| 0.33, 0.00, 0.00|\n",
       "          | 0.00,-0.33, 1.00|\n",
       "          | 0.00, 0.00, 1.00|\n",
       "crs=None"
      ]
     },
     "execution_count": 6,
     "metadata": {},
     "output_type": "execute_result"
    }
   ],
   "source": [
    "# Logical bitwise operation between masks\n",
    "mask = (raster > 100) & ((raster % 2) == 0)\n",
    "mask"
   ]
  },
  {
   "cell_type": "markdown",
   "id": "3ff6fbb0",
   "metadata": {},
   "source": [
    "## Indexing a {class}`~geoutils.Raster` with a {class}`~geoutils.Mask`"
   ]
  }
 ],
 "metadata": {
  "file_format": "mystnb",
  "kernelspec": {
   "display_name": "geoutils",
   "name": "python3"
  },
  "language_info": {
   "codemirror_mode": {
    "name": "ipython",
    "version": 3
   },
   "file_extension": ".py",
   "mimetype": "text/x-python",
   "name": "python",
   "nbconvert_exporter": "python",
   "pygments_lexer": "ipython3",
   "version": "3.10.8"
  },
  "source_map": [
   5,
   22,
   43,
   48,
   53,
   56,
   70,
   74,
   85,
   89
  ]
 },
 "nbformat": 4,
 "nbformat_minor": 5
}